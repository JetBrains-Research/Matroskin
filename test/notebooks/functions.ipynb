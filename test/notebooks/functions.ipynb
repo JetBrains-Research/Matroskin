{
 "cells": [
  {
   "cell_type": "code",
   "execution_count": null,
   "metadata": {
    "collapsed": true
   },
   "outputs": [],
   "source": [
    "import package1\n",
    "from package1 import package1_function0, package1_function1\n",
    "\n",
    "def defined_function_1(var1, var2):\n",
    "    return 0"
   ]
  },
  {
   "cell_type": "markdown",
   "source": [
    "$\\lambda = 2$ Hello world!"
   ],
   "metadata": {
    "collapsed": false
   }
  },
  {
   "cell_type": "code",
   "execution_count": null,
   "outputs": [],
   "source": [
    "print(2)\n",
    "defined_function_3()"
   ],
   "metadata": {
    "collapsed": false,
    "pycharm": {
     "name": "#%%\n"
    }
   }
  },
  {
   "cell_type": "code",
   "execution_count": null,
   "outputs": [],
   "source": [
    "def defined_function_2():\n",
    "    a = defined_function_1()\n",
    "    return 0\n",
    "\n",
    "\n",
    "def defined_function_3(var1, var2, var3):\n",
    "    return 0\n",
    "\n",
    "defined_function_2()\n"
   ],
   "metadata": {
    "collapsed": false,
    "pycharm": {
     "name": "#%%\n"
    }
   }
  }
 ],
 "metadata": {
  "kernelspec": {
   "display_name": "Python 3",
   "language": "python",
   "name": "python3"
  },
  "language_info": {
   "codemirror_mode": {
    "name": "ipython",
    "version": 2
   },
   "file_extension": ".py",
   "mimetype": "text/x-python",
   "name": "python",
   "nbconvert_exporter": "python",
   "pygments_lexer": "ipython2",
   "version": "2.7.6"
  }
 },
 "nbformat": 4,
 "nbformat_minor": 0
}